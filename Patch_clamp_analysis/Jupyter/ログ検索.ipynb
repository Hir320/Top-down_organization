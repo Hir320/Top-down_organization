{
 "cells": [
  {
   "cell_type": "markdown",
   "id": "3af830f6-14e5-4223-b801-a3e5e573e66c",
   "metadata": {},
   "source": [
    "Data/PatchClamp/analysis/rtfをtxtに変換.ipynb\n",
    "http://192.168.11.19:8888/lab/tree/Data/PatchClamp/analysis/rtf%E3%82%92txt%E3%81%AB%E5%A4%89%E6%8F%9B.ipynb"
   ]
  },
  {
   "cell_type": "code",
   "execution_count": null,
   "id": "f19502c5-3587-4049-be3f-ea4130b34926",
   "metadata": {
    "tags": []
   },
   "outputs": [],
   "source": [
    "log_filename = '2025.02.26.txt'\n",
    "logcsv_path = './Data/reultCSV/StimSettings/TwoColourOptoStim.csv'\n",
    "abf_filename = '23n25002.abf'\n",
    "abf_filenames =  ['23819003.abf', '23819008.abf', '23819011.abf', '23819014.abf', '23819017.abf', '23819025.abf', '23819026.abf', '23819031.abf', '23819034.abf', '23819036.abf']"
   ]
  },
  {
   "cell_type": "code",
   "execution_count": null,
   "id": "bd4b3a1a-36a1-48a9-a4f6-7f26f75dac8c",
   "metadata": {
    "tags": []
   },
   "outputs": [],
   "source": [
    "%load_ext cudf.pandas\n",
    "import os\n",
    "import chardet\n",
    "import re\n",
    "import sys; sys.path.append('./')\n",
    "import log_search\n",
    "import pandas as pd\n",
    "\n",
    "\n",
    "\n",
    "# Find the file recursively\n",
    "directory_log_filename = log_search.find_file_recursively(\"./Data\", log_filename)\n",
    "\n",
    "print(directory_log_filename)"
   ]
  },
  {
   "cell_type": "code",
   "execution_count": null,
   "id": "edbbcf93-d2f3-4350-a228-61b1deb8d5b0",
   "metadata": {
    "tags": []
   },
   "outputs": [],
   "source": [
    "# Find the line containing the abf filename nji\n",
    "line = log_search.find_line_with_abf_filename(directory_log_filename, abf_filename)\n",
    "line\n",
    "# Find the lines containing the abf filenames\n",
    "lines = log_search.find_lines_with_abf_filenames(directory_log_filename, abf_filenames)\n",
    "for filename, line in lines.items():\n",
    "    print(f\"{filename}: {line}\")\n",
    "    \n",
    "two_color = log_search.two_colour_check(directory_log_filename, \"ChR2\", \"ChrimsonR\")"
   ]
  },
  {
   "cell_type": "code",
   "execution_count": null,
   "id": "d9fb9303-e3b5-425d-8627-9963b9d3f94b",
   "metadata": {},
   "outputs": [],
   "source": [
    "log_dict = log_search.show_all_lines_with_abf_filenames(\"./Data\", log_filename)\n",
    "# Define the pattern to match\n",
    "pattern = re.compile(r'\\d+\\.abf:   \\d{2}:\\d{2}:\\d{2} stopwatch time\\.?')\n",
    "\n",
    "# Update the values of log_dict\n",
    "for key, value in log_dict.items():\n",
    "    log_dict[key] = pattern.sub('', value).strip()\n",
    "log_dict"
   ]
  },
  {
   "cell_type": "code",
   "execution_count": null,
   "id": "e10154d6-91e7-44b3-9edd-1d48054052ee",
   "metadata": {
    "editable": true,
    "slideshow": {
     "slide_type": ""
    },
    "tags": []
   },
   "outputs": [],
   "source": [
    "df_log = pd.DataFrame()\n",
    "df_log['filename'] = list(log_dict.keys())\n",
    "df_log['SliceID'] = df_log['filename'].apply(lambda x: log_search.extract_slice_id_from_log(directory_log_filename, x)) # SLice IDを追加\n",
    "df_log['CellID'] = df_log['filename'].apply(lambda x: log_search.extract_cell_id_from_log(directory_log_filename, x)) # Cell IDを追加\n",
    "df_log['log'] = df_log['filename'].apply(lambda x: log_dict[x]) # \n",
    "pd.set_option('display.max_colwidth', None)\n",
    "pd.set_option('display.max_rows', 150)\n",
    "df_log_csv_path = directory_log_filename.replace('txt', 'csv')\n",
    "df_log.to_csv(df_log_csv_path)\n",
    "df_log"
   ]
  },
  {
   "cell_type": "code",
   "execution_count": null,
   "id": "d2fd0859-30d7-4ad4-96b0-588d21cc9a2c",
   "metadata": {
    "editable": true,
    "slideshow": {
     "slide_type": ""
    },
    "tags": []
   },
   "outputs": [],
   "source": [
    "\n",
    "if \"OneColour\" in logcsv_path and not two_color:    \n",
    "    df_log['stimulus_duration'] = df_log['log'].apply(\n",
    "        lambda x: re.search(r'(?<!IT_)\\b\\d+(\\.\\d+)? ms\\b', x).group(0) if re.search(r'(?<!IT_)\\b\\d+(\\.\\d+)? ms\\b', x) else None\n",
    "    )\n",
    "    df_log['Optostimulus_power'] = df_log['log'].apply(lambda x: re.search(r'\\b\\d+%|\\b\\d+\\.\\d+%', x).group(0) if re.search(r'\\b\\d+%|\\b\\d+\\.\\d+%', x) else None)\n",
    "    df_log['logfilename'] = log_filename\n",
    "    # First, detect the encoding of the file\n",
    "    with open(logcsv_path, 'rb') as file:\n",
    "        result = chardet.detect(file.read())\n",
    "        encoding = result['encoding']\n",
    "    # Now, read the CSV file using the detected encoding\n",
    "    csv_data = pd.read_csv(logcsv_path, encoding=encoding)\n",
    "\n",
    "    updated_csv_data = log_search.check_logfilename_contains(csv_data, log_filename)\n",
    "\n",
    "    if log_search.check_all_false(updated_csv_data, 'contains_specified_string'):\n",
    "        # Display the updated dataframe with the new column\n",
    "        df_log.to_csv(logcsv_path, mode='a', header=False)\n",
    "\n",
    "elif \"TwoColour\" in logcsv_path and two_color:\n",
    "    # Apply the function to each row\n",
    "    df_log[['R_Optostimulus_power', 'R_stimulus_duration', 'B_Optostimulus_power', 'B_stimulus_duration']] = df_log.apply(log_search.extract_stimulus_info, axis=1)\n",
    "    # Apply the function to each row in 'log' column\n",
    "    df_log['IT'] = df_log['log'].apply(log_search.extract_interval_time)\n",
    "    df_log['logfilename'] = log_filename\n",
    "    # Apply this function to each row in the DataFrame\n",
    "    df_log['BR_Order'] = df_log.apply(log_search.determine_br_order, axis=1)\n",
    "    # Apply the function to the 'log' column\n",
    "    df_log['substances_included'] = df_log['log'].apply(log_search.check_substrings)\n",
    "    # First, detect the encoding of the file\n",
    "    with open(logcsv_path, 'rb') as file:\n",
    "        result = chardet.detect(file.read())\n",
    "        encoding = result['encoding']\n",
    "    # Now, read the CSV file using the detected encoding\n",
    "    csv_data = pd.read_csv(logcsv_path, encoding=encoding)\n",
    "\n",
    "    updated_csv_data = log_search.check_logfilename_contains(csv_data, log_filename)\n",
    "\n",
    "    if log_search.check_all_false(updated_csv_data, 'contains_specified_string'):\n",
    "        # Display the updated dataframe with the new column\n",
    "        df_log.to_csv(logcsv_path, mode='a', header=False)"
   ]
  },
  {
   "cell_type": "code",
   "execution_count": null,
   "id": "1e320f30-ecc0-45cf-9806-81aea06d658b",
   "metadata": {},
   "outputs": [],
   "source": [
    "\n",
    "# Regular expression pattern\n",
    "pattern = r\"\\.(?:-?\\d{1,2}|[+-]40) mV ([RB]_(?:0(?:\\.\\d+)?|1(?:\\.\\d+)?|1\\.2) A \\d+(\\.\\d+)?% \\d+(\\.\\d+)? ms [RB]_(?:0(?:\\.\\d+)?|1(?:\\.\\d+)?|1\\.2) A \\d+(\\.\\d+)?% \\d+(\\.\\d+)? ms) sweep \\d{2} s IT_\\d+(\\.\\d+)? ms\"\n",
    "data = log_search.show_all_lines_with_abf_filenames(\"G:/YuzakiLab/PatchClamp\", log_filename)\n",
    "# Test the function\n",
    "matched_lines = log_search.show_all_lines_with_two_stim(data, pattern)\n",
    "\n",
    "# Print the matched lines\n",
    "for line in matched_lines:\n",
    "    print(line)"
   ]
  },
  {
   "cell_type": "code",
   "execution_count": null,
   "id": "852a844a-07e2-48d0-9131-da0408d9b083",
   "metadata": {},
   "outputs": [],
   "source": [
    "if 'OneColour' in logcsv_path:\n",
    "    rmp_data = df_log.apply(log_search.extract_rmp_data, axis=1)\n",
    "    rmp_data.columns = ['log_filename', 'SliceID', 'CellID', 'RMP']\n",
    "    # Filter out rows with None values\n",
    "    rmp_data = rmp_data.dropna()\n",
    "rmp_data"
   ]
  },
  {
   "cell_type": "code",
   "execution_count": null,
   "id": "c07a76fc-5992-40fd-b005-513453452568",
   "metadata": {},
   "outputs": [],
   "source": []
  }
 ],
 "metadata": {
  "kernelspec": {
   "display_name": "Python 3 (ipykernel)",
   "language": "python",
   "name": "python3"
  },
  "language_info": {
   "codemirror_mode": {
    "name": "ipython",
    "version": 3
   },
   "file_extension": ".py",
   "mimetype": "text/x-python",
   "name": "python",
   "nbconvert_exporter": "python",
   "pygments_lexer": "ipython3",
   "version": "3.11.9"
  }
 },
 "nbformat": 4,
 "nbformat_minor": 5
}
