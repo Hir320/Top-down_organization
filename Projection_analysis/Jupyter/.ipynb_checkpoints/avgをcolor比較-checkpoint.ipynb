{
 "cells": [
  {
   "cell_type": "code",
   "execution_count": 14,
   "id": "7c9a0479-105f-4a98-8406-6bc451aec4b0",
   "metadata": {},
   "outputs": [],
   "source": [
    "#!/usr/bin/env python\n",
    "\"\"\"\n",
    "Make a 3-panel, publication-quality figure from 16-bit TIFFs.\n",
    "\n",
    "▶ Requires:  tifffile, numpy, matplotlib   (pip install tifffile matplotlib numpy)\n",
    "\"\"\"\n",
    "from pathlib import Path\n",
    "import numpy as np\n",
    "import tifffile\n",
    "import matplotlib.pyplot as plt\n",
    "from matplotlib.colors import ListedColormap\n",
    "import matplotlib as mpl\n",
    "\n",
    "# 0) pick / create the output folder once --------------------------\n",
    "out_dir = Path(\"./metrics_maps/averaged\")   # relative to where you run the script\n",
    "out_dir.mkdir(parents=True, exist_ok=True)\n",
    "\n",
    "# ----------------------------------------------------------------------\n",
    "# 1) load the images ----------------------------------------------------\n",
    "# paths = [Path(\"./metrics_maps/averaged/average/AVG_ACC_first_negative_amp_positive.tif\"), \n",
    "#          Path(\"./metrics_maps/averaged/average/AVG_RSC_first_negative_amp_positive.tif\"), \n",
    "#          Path(\"./metrics_maps/averaged/average/AVG_LGN_first_negative_amp_positive.tif\")]\n",
    "paths = [Path(\"./metrics_maps/averaged/average/AVG_ACC_r_half_microns.tif\"), \n",
    "         Path(\"./metrics_maps/averaged/average/AVG_RSC_r_half_microns.tif\"), \n",
    "         Path(\"./metrics_maps/averaged/average/AVG_LGN_r_half_microns.tif\")]\n",
    "\n",
    "imgs  = [tifffile.imread(p).astype(np.float64) for p in paths]"
   ]
  },
  {
   "cell_type": "code",
   "execution_count": 15,
   "id": "19348982-8d0e-4a95-a27f-3c3315aaa257",
   "metadata": {},
   "outputs": [
    {
     "name": "stderr",
     "output_type": "stream",
     "text": [
      "/tmp/ipykernel_52982/694891391.py:13: MatplotlibDeprecationWarning: The get_cmap function was deprecated in Matplotlib 3.7 and will be removed two minor releases later. Use ``matplotlib.colormaps[name]`` or ``matplotlib.colormaps.get_cmap(obj)`` instead.\n",
      "  cmap = cm.get_cmap(\"viridis\").copy()   # fully opaque\n"
     ]
    }
   ],
   "source": [
    "# ----------------------------------------------------------------------\n",
    "# 2) mask the background (intensity == 0) -------------------------------\n",
    "masked = [np.ma.masked_equal(im, 0) for im in imgs]          # 0-valued pixels → transparent\n",
    "\n",
    "# ----------------------------------------------------------------------\n",
    "# 3) choose a global display range (1st–99th percentile is robust) ------\n",
    "all_pixels = np.hstack([m.compressed() for m in masked])     # drop the masked zeros\n",
    "vmin, vmax = np.percentile(all_pixels, (1, 99))\n",
    "\n",
    "# ----------------------------------------------------------------------\n",
    "# 4) build a LUT: opaque, but make masked pixels transparent -----------\n",
    "from matplotlib import cm\n",
    "cmap = cm.get_cmap(\"viridis\").copy()   # fully opaque\n",
    "cmap.set_bad(color=(0, 0, 0, 0))       # masked pixels → transparent\n",
    "# ----------------------------------------------------------------------\n",
    "# 5) draw ---------------------------------------------------------------\n",
    "for ax, m in zip(axes, masked):\n",
    "    im = ax.imshow(m, cmap=cmap, vmin=vmin, vmax=vmax,\n",
    "                   interpolation=\"nearest\")\n",
    "\n",
    "# single colour-bar for all three panels\n",
    "cax  = fig.add_axes([0.92, 0.15, 0.03, 0.7])                # [left, bottom, width, height]\n",
    "cbar = fig.colorbar(im, cax=cax)\n",
    "cbar.set_label(\"Intensity (a.u.)\", fontsize=8)\n",
    "cbar.ax.tick_params(labelsize=6)\n",
    "\n",
    "# ----------------------------------------------------------------------\n",
    "# 6) save high-resolution versions --------------------------------------\n",
    "fig.savefig(\"figure.tif\", dpi=600, bbox_inches=\"tight\", pil_kwargs={\"compression\":\"tiff_lzw\"})\n",
    "fig.savefig(\"figure.pdf\",             bbox_inches=\"tight\")   # vector copy for the journal\n",
    "plt.close(fig)"
   ]
  },
  {
   "cell_type": "code",
   "execution_count": 16,
   "id": "d04508d4-06e1-4405-9d27-4b02a8a5f71e",
   "metadata": {},
   "outputs": [],
   "source": [
    "def save_panel(img, cmap, vmin, vmax, out_path, dpi=300):\n",
    "    \"\"\"\n",
    "    img  – masked array (np.ma.MaskedArray)\n",
    "    cmap – a matplotlib ListedColormap with .set_bad(alpha=0)\n",
    "    \"\"\"\n",
    "    fig, ax = plt.subplots(figsize=(4/2.54, 4/2.54), dpi=dpi)   # 4 cm wide square\n",
    "    ax.imshow(img, cmap=cmap, vmin=vmin, vmax=vmax,\n",
    "              interpolation='nearest')\n",
    "    ax.set_axis_off()\n",
    "    fig.savefig(out_path, dpi=dpi,\n",
    "                bbox_inches='tight', pad_inches=0,\n",
    "                transparent=True)     # <- alpha channel!\n",
    "    plt.close(fig)\n",
    "\n",
    "def save_colorbar(cmap, vmin, vmax, out_path, dpi=300,\n",
    "                  height_cm=4, bar_thickness_cm=0.4, font_sz=6):\n",
    "    \"\"\"\n",
    "    Saves a vertical colour-bar with the same range used for the panels.\n",
    "    \"\"\"\n",
    "    # dummy ScalarMappable to feed colour-bar\n",
    "    norm = mpl.colors.Normalize(vmin=vmin, vmax=vmax)\n",
    "    sm   = mpl.cm.ScalarMappable(norm=norm, cmap=cmap)\n",
    "\n",
    "    # thin, tall canvas\n",
    "    h_in  = height_cm / 2.54\n",
    "    th_in = bar_thickness_cm / 2.54\n",
    "    fig, ax = plt.subplots(figsize=(th_in, h_in), dpi=dpi)\n",
    "    fig.subplots_adjust(left=0.5, right=0.9, top=0.95, bottom=0.05)\n",
    "\n",
    "    cbar = fig.colorbar(sm, cax=ax)\n",
    "    cbar.ax.tick_params(labelsize=font_sz)\n",
    "    #cbar.set_label(\"Intensity (a.u.)\", fontsize=font_sz)\n",
    "\n",
    "    fig.savefig(out_path, dpi=dpi,\n",
    "                bbox_inches='tight', pad_inches=0,\n",
    "                transparent=True)\n",
    "    plt.close(fig)"
   ]
  },
  {
   "cell_type": "code",
   "execution_count": 17,
   "id": "9c1e9690-13e2-4b25-a468-1a1bb821b6fd",
   "metadata": {},
   "outputs": [],
   "source": [
    "panels = ['A', 'B', 'C']\n",
    "for img, label in zip(masked, panels):\n",
    "    fname = out_dir / f\"figure_{label}.png\"\n",
    "    save_panel(img, cmap, vmin, vmax, fname)\n",
    "save_colorbar(cmap, vmin, vmax, out_dir / f\"figure_{label}.png\"\"figure_clrbar.png\", font_sz=8)"
   ]
  },
  {
   "cell_type": "code",
   "execution_count": null,
   "id": "54423347-f973-4340-8053-4fe03168dccb",
   "metadata": {},
   "outputs": [],
   "source": []
  }
 ],
 "metadata": {
  "kernelspec": {
   "display_name": "Python 3 (ipykernel)",
   "language": "python",
   "name": "python3"
  },
  "language_info": {
   "codemirror_mode": {
    "name": "ipython",
    "version": 3
   },
   "file_extension": ".py",
   "mimetype": "text/x-python",
   "name": "python",
   "nbconvert_exporter": "python",
   "pygments_lexer": "ipython3",
   "version": "3.8.10"
  }
 },
 "nbformat": 4,
 "nbformat_minor": 5
}
